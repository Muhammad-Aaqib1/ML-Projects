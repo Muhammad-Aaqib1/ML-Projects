{
 "cells": [
  {
   "cell_type": "markdown",
   "id": "aa7c5852",
   "metadata": {},
   "source": [
    "# Linear Regression - Example Datasets\n",
    "This notebook demonstrates Linear Regression using different datasets.\n",
    "The examples include datasets like California Housing, Diabetes, and Synthetic Data."
   ]
  },
  {
   "cell_type": "markdown",
   "id": "41fd7074",
   "metadata": {},
   "source": [
    "## Example 1: California Housing Prices\n",
    "This dataset contains features related to California housing and aims to predict the median house value."
   ]
  },
  {
   "cell_type": "code",
   "execution_count": null,
   "id": "cc0e2012",
   "metadata": {},
   "outputs": [],
   "source": [
    "\n",
    "import numpy as np\n",
    "import pandas as pd\n",
    "from sklearn.datasets import fetch_california_housing\n",
    "from sklearn.model_selection import train_test_split\n",
    "from sklearn.linear_model import LinearRegression\n",
    "from sklearn.metrics import mean_squared_error, r2_score\n",
    "\n",
    "# Load dataset\n",
    "data = fetch_california_housing()\n",
    "X = data.data\n",
    "\n",
    "y = data.target\n",
    "\n",
    "# Split data\n",
    "X_train, X_test, y_train, y_test = train_test_split(X, y, test_size=0.2, random_state=42)\n",
    "\n",
    "# Train Linear Regression model\n",
    "model = LinearRegression()\n",
    "model.fit(X_train, y_train)\n",
    "\n",
    "# Predict\n",
    "y_pred = model.predict(X_test)\n",
    "\n",
    "# Evaluate\n",
    "mse = mean_squared_error(y_test, y_pred)\n",
    "r2 = r2_score(y_test, y_pred)\n",
    "\n",
    "# Results\n",
    "print(\"📊 California Housing Dataset\")\n",
    "print(f\"Mean Squared Error: {mse}\")\n",
    "print(f\"R² Score: {r2}\")\n"
   ]
  },
  {
   "cell_type": "markdown",
   "id": "7de8bbc0",
   "metadata": {},
   "source": [
    "## Example 2: Diabetes Progression\n",
    "This dataset is used to predict diabetes progression based on various health measurements."
   ]
  },
  {
   "cell_type": "code",
   "execution_count": null,
   "id": "c0044dbd",
   "metadata": {},
   "outputs": [],
   "source": [
    "\n",
    "import numpy as np\n",
    "from sklearn.datasets import load_diabetes\n",
    "from sklearn.model_selection import train_test_split\n",
    "from sklearn.linear_model import LinearRegression\n",
    "from sklearn.metrics import mean_squared_error, r2_score\n",
    "\n",
    "# Load dataset\n",
    "data = load_diabetes()\n",
    "X = data.data\n",
    "y = data.target\n",
    "\n",
    "# Split data\n",
    "X_train, X_test, y_train, y_test = train_test_split(X, y, test_size=0.2, random_state=42)\n",
    "\n",
    "# Train model\n",
    "model = LinearRegression()\n",
    "model.fit(X_train, y_train)\n",
    "\n",
    "# Predict\n",
    "y_pred = model.predict(X_test)\n",
    "\n",
    "# Evaluate\n",
    "mse = mean_squared_error(y_test, y_pred)\n",
    "r2 = r2_score(y_test, y_pred)\n",
    "\n",
    "# Results\n",
    "print(\"\n",
    "📊 Diabetes Dataset\")\n",
    "print(f\"Mean Squared Error: {mse}\")\n",
    "print(f\"R² Score: {r2}\")\n"
   ]
  },
  {
   "cell_type": "markdown",
   "id": "7f225d76",
   "metadata": {},
   "source": [
    "## Example 3: Synthetic Regression Data\n",
    "This example uses synthetic data generated for linear regression. It's great for testing and model validation."
   ]
  },
  {
   "cell_type": "code",
   "execution_count": null,
   "id": "521e9d8c",
   "metadata": {},
   "outputs": [],
   "source": [
    "\n",
    "from sklearn.datasets import make_regression\n",
    "\n",
    "# Generate synthetic dataset\n",
    "X, y = make_regression(n_samples=200, n_features=3, noise=10, random_state=42)\n",
    "\n",
    "# Split data\n",
    "X_train, X_test, y_train, y_test = train_test_split(X, y, test_size=0.2, random_state=42)\n",
    "\n",
    "# Train model\n",
    "model = LinearRegression()\n",
    "model.fit(X_train, y_train)\n",
    "\n",
    "# Predict\n",
    "y_pred = model.predict(X_test)\n",
    "\n",
    "# Evaluate\n",
    "mse = mean_squared_error(y_test, y_pred)\n",
    "r2 = r2_score(y_test, y_pred)\n",
    "\n",
    "# Results\n",
    "print(\"\n",
    "📊 Synthetic Regression Dataset\")\n",
    "print(f\"Mean Squared Error: {mse}\")\n",
    "print(f\"R² Score: {r2}\")\n"
   ]
  },
  {
   "cell_type": "markdown",
   "id": "39525f88",
   "metadata": {},
   "source": [
    "## Example 4: Medical Insurance Cost Prediction\n",
    "This dataset uses features like age, BMI, and smoking habits to predict insurance costs."
   ]
  },
  {
   "cell_type": "code",
   "execution_count": null,
   "id": "b88397f9",
   "metadata": {},
   "outputs": [],
   "source": [
    "\n",
    "import pandas as pd\n",
    "\n",
    "# Load dataset from a CSV link\n",
    "data = pd.read_csv('https://raw.githubusercontent.com/stedy/Machine-Learning-with-R-datasets/master/insurance.csv')\n",
    "X = data[['age', 'bmi', 'children']]  # Example features\n",
    "y = data['charges']\n",
    "\n",
    "# Split data\n",
    "X_train, X_test, y_train, y_test = train_test_split(X, y, test_size=0.2, random_state=42)\n",
    "\n",
    "# Train model\n",
    "model = LinearRegression()\n",
    "model.fit(X_train, y_train)\n",
    "\n",
    "# Predict\n",
    "y_pred = model.predict(X_test)\n",
    "\n",
    "# Evaluate\n",
    "mse = mean_squared_error(y_test, y_pred)\n",
    "r2 = r2_score(y_test, y_pred)\n",
    "\n",
    "# Results\n",
    "print(\"\n",
    "📊 Medical Insurance Cost Prediction\")\n",
    "print(f\"Mean Squared Error: {mse}\")\n",
    "print(f\"R² Score: {r2}\")\n"
   ]
  },
  {
   "cell_type": "markdown",
   "id": "8da49624",
   "metadata": {},
   "source": [
    "## Example 5: Student Study Hours vs Scores\n",
    "This is a small dataset that correlates study hours with exam scores."
   ]
  },
  {
   "cell_type": "code",
   "execution_count": null,
   "id": "46926faf",
   "metadata": {},
   "outputs": [],
   "source": [
    "\n",
    "# Creating a small dataset for Student Study Hours vs Scores\n",
    "import pandas as pd\n",
    "data = pd.DataFrame({\n",
    "    'hours_studied': [1, 2, 3, 4, 5, 6, 7, 8],\n",
    "    'score': [20, 30, 50, 55, 65, 75, 85, 95]\n",
    "})\n",
    "X = data[['hours_studied']]\n",
    "y = data['score']\n",
    "\n",
    "# Split data\n",
    "X_train, X_test, y_train, y_test = train_test_split(X, y, test_size=0.2, random_state=42)\n",
    "\n",
    "# Train model\n",
    "model = LinearRegression()\n",
    "model.fit(X_train, y_train)\n",
    "\n",
    "# Predict\n",
    "y_pred = model.predict(X_test)\n",
    "\n",
    "# Evaluate\n",
    "mse = mean_squared_error(y_test, y_pred)\n",
    "r2 = r2_score(y_test, y_pred)\n",
    "\n",
    "# Results\n",
    "print( \"📊\"\n",
    "(\"Student Study Hours vs Scores\")\n",
    "print(f\"Mean Squared Error: {mse}\")\n",
    "print(f\"R² Score: {r2}\")\n",
    ")"
   ]
  }
 ],
 "metadata": {
  "language_info": {
   "name": "python"
  }
 },
 "nbformat": 4,
 "nbformat_minor": 5
}
